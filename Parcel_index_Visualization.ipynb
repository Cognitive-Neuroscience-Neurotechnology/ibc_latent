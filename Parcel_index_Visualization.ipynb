{
 "cells": [
  {
   "cell_type": "markdown",
   "metadata": {},
   "source": [
    "# Get cluster - parcel mapping"
   ]
  },
  {
   "cell_type": "markdown",
   "metadata": {},
   "source": [
    "Steps:\n",
    "1. import cluster results per index from /home/hmueller2/ibc_code/ibc_output_MDS/run_06/kmeans_labels_sub-XX.csv\n",
    "2. import parcel labels from indexing '/home/hmueller2/ibc_output_RA/raw/topographic_alignment/parcel_names_sub-XX.json'\n",
    "3. Concetanate the two to get a File with columns: index - parcel_label - cluster"
   ]
  },
  {
   "cell_type": "code",
   "execution_count": null,
   "metadata": {},
   "outputs": [
    {
     "name": "stdout",
     "output_type": "stream",
     "text": [
      "    index parcel_label  cluster\n",
      "0       0         R_8C        1\n",
      "1       1        R_11l        2\n",
      "2       2       R_a10p        2\n",
      "3       3       L_TE1p        1\n",
      "4       4        R_AVI        2\n",
      "5       5       L_p47r        2\n",
      "6       6       R_IFJp        1\n",
      "7       7        R_RSC        1\n",
      "8       8       L_POS2        1\n",
      "9       9       R_TE1m        2\n",
      "10     10        R_OFC        2\n",
      "11     11       R_s6-8        1\n",
      "12     12        R_IP2        2\n",
      "13     13        R_7Pm        1\n",
      "14     14     L_a9-46v        2\n",
      "15     15       R_POS2        1\n",
      "16     16       L_p10p        1\n",
      "17     17       L_IFSa        1\n",
      "18     18        L_PFm        1\n",
      "19     19       R_a47r        2\n",
      "20     20     L_p9-46v        1\n",
      "21     21       L_IFJp        1\n",
      "22     22        L_IP1        1\n",
      "23     23       R_33pr        2\n",
      "24     24       R_p47r        2\n",
      "25     25        L_13l        2\n",
      "26     26        R_d32        1\n",
      "27     27     R_a9-46v        2\n",
      "28     28         L_8C        1\n",
      "29     29     R_p9-46v        1\n",
      "30     30         R_44        1\n",
      "31     31       R_p10p        1\n",
      "32     32       R_TE1p        1\n",
      "33     33        R_31a        1\n",
      "34     34        L_RSC        1\n",
      "35     35       L_a10p        1\n",
      "36     36        L_7Pm        1\n",
      "37     37        R_13l        1\n",
      "38     38        R_8BM        1\n",
      "39     39       L_s6-8        1\n",
      "40     40        L_IP2        1\n",
      "41     41        R_IP1        1\n",
      "42     42       L_i6-8        1\n",
      "43     43        L_11l        2\n",
      "44     44        L_AVI        1\n",
      "45     45        L_8BM        2\n",
      "46     46        R_PFm        1\n",
      "47     47       R_i6-8        2\n",
      "48     48       R_IFSp        1\n",
      "49     49       L_a47r        2\n"
     ]
    }
   ],
   "source": [
    "import pandas as pd\n",
    "import json\n",
    "\n",
    "subject = 'sub-01'\n",
    "\n",
    "# Step 1: Import cluster results per index\n",
    "cluster_results_path = f'/home/hmueller2/ibc_code/ibc_output_MDS/run_06/kmeans_labels_{subject}.csv'\n",
    "cluster_df = pd.read_csv(cluster_results_path, header=None, names=['cluster'])\n",
    "\n",
    "# Add an 'index' column to cluster_df\n",
    "cluster_df.reset_index(inplace=True)\n",
    "\n",
    "# Step 2: Import parcel labels\n",
    "parcel_labels_path = f'/home/hmueller2/ibc_code/ibc_output_RA/raw/topographic_alignment/parcel_names_{subject}.json'\n",
    "with open(parcel_labels_path, 'r') as file:\n",
    "    parcel_labels = json.load(file)\n",
    "\n",
    "# Create a DataFrame with an 'index' column and a 'parcel_label' column\n",
    "parcel_df = pd.DataFrame({\n",
    "    'index': range(len(parcel_labels)),\n",
    "    'parcel_label': parcel_labels\n",
    "})\n",
    "\n",
    "# Step 3: Concatenate the two to get a file with columns: index - parcel_label - cluster\n",
    "result_df = pd.merge(parcel_df, cluster_df, on='index')\n",
    "result_df.columns = ['index', 'parcel_label', 'cluster']\n",
    "\n",
    "print(result_df)"
   ]
  }
 ],
 "metadata": {
  "kernelspec": {
   "display_name": "Python 3",
   "language": "python",
   "name": "python3"
  },
  "language_info": {
   "codemirror_mode": {
    "name": "ipython",
    "version": 3
   },
   "file_extension": ".py",
   "mimetype": "text/x-python",
   "name": "python",
   "nbconvert_exporter": "python",
   "pygments_lexer": "ipython3",
   "version": "3.12.8"
  }
 },
 "nbformat": 4,
 "nbformat_minor": 2
}
