{
 "cells": [
  {
   "cell_type": "markdown",
   "metadata": {},
   "source": [
    "# 0. Intro"
   ]
  },
  {
   "cell_type": "code",
   "execution_count": 1,
   "metadata": {},
   "outputs": [],
   "source": [
    "import os\n",
    "import nibabel as nib\n",
    "import numpy as np\n",
    "from scipy.spatial.distance import pdist, squareform\n",
    "from scipy.stats import spearmanr\n",
    "\n",
    "base_dir = '/home/hmueller2/Downloads/contrast_maps/resulting_smooth_maps_surface/' # find the contrast maps here\n",
    "output_dir = '/home/hmueller2/ibc_code/ibc_output'\n",
    "code_dir = '/home/hmueller2/ibc_code/ibc_latent'"
   ]
  },
  {
   "cell_type": "markdown",
   "metadata": {},
   "source": [
    "# 1. Load the data"
   ]
  },
  {
   "cell_type": "code",
   "execution_count": null,
   "metadata": {},
   "outputs": [],
   "source": [
    "def load_surface_maps(file_paths):\n",
    "    data = []\n",
    "    for file_path in file_paths:\n",
    "        img = nib.load(file_path)\n",
    "        # Extract data from GiftiImage\n",
    "        img_data = np.array([darray.data for darray in img.darrays])\n",
    "        data.append(img_data)\n",
    "    return np.array(data)\n",
    "\n",
    "file_paths = [f\"{base_dir}/sub-01/ses-00/sub-01_ses-00_task-ArchiStandard_dir-ffx_space-fsaverage5_hemi-lh_ZMap-audio_computation.gii\"]\n",
    "data = load_surface_maps(file_paths)"
   ]
  }
 ],
 "metadata": {
  "kernelspec": {
   "display_name": "Python 3",
   "language": "python",
   "name": "python3"
  },
  "language_info": {
   "codemirror_mode": {
    "name": "ipython",
    "version": 3
   },
   "file_extension": ".py",
   "mimetype": "text/x-python",
   "name": "python",
   "nbconvert_exporter": "python",
   "pygments_lexer": "ipython3",
   "version": "3.12.8"
  }
 },
 "nbformat": 4,
 "nbformat_minor": 2
}
