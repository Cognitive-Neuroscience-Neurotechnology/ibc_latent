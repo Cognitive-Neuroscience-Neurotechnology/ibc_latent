{
 "cells": [
  {
   "cell_type": "markdown",
   "metadata": {},
   "source": [
    "# 0. Intro"
   ]
  },
  {
   "cell_type": "code",
   "execution_count": 4,
   "metadata": {},
   "outputs": [],
   "source": [
    "import os\n",
    "import nibabel as nib\n",
    "import numpy as np\n",
    "from scipy.spatial.distance import pdist, squareform\n",
    "from scipy.stats import spearmanr\n",
    "\n",
    "base_dir = '/home/hmueller2/Downloads/contrast_maps/resulting_smooth_maps_surface/' # find the contrast maps here\n",
    "output_dir = '/home/hmueller2/ibc_code/ibc_output'\n",
    "code_dir = '/home/hmueller2/ibc_code/ibc_latent'"
   ]
  },
  {
   "cell_type": "markdown",
   "metadata": {},
   "source": [
    "# 1. Load the data"
   ]
  },
  {
   "cell_type": "code",
   "execution_count": 5,
   "metadata": {},
   "outputs": [
    {
     "ename": "AttributeError",
     "evalue": "'GiftiImage' object has no attribute 'get_fdata'",
     "output_type": "error",
     "traceback": [
      "\u001b[0;31m---------------------------------------------------------------------------\u001b[0m",
      "\u001b[0;31mAttributeError\u001b[0m                            Traceback (most recent call last)",
      "Cell \u001b[0;32mIn[5], line 9\u001b[0m\n\u001b[1;32m      6\u001b[0m     \u001b[38;5;28;01mreturn\u001b[39;00m np\u001b[38;5;241m.\u001b[39marray(data)\n\u001b[1;32m      8\u001b[0m file_paths \u001b[38;5;241m=\u001b[39m [\u001b[38;5;124mf\u001b[39m\u001b[38;5;124m\"\u001b[39m\u001b[38;5;132;01m{\u001b[39;00mbase_dir\u001b[38;5;132;01m}\u001b[39;00m\u001b[38;5;124m/sub-01/ses-00/sub-01_ses-00_task-ArchiStandard_dir-ffx_space-fsaverage5_hemi-lh_ZMap-audio_computation.gii\u001b[39m\u001b[38;5;124m\"\u001b[39m]\n\u001b[0;32m----> 9\u001b[0m data \u001b[38;5;241m=\u001b[39m \u001b[43mload_surface_maps\u001b[49m\u001b[43m(\u001b[49m\u001b[43mfile_paths\u001b[49m\u001b[43m)\u001b[49m\n",
      "Cell \u001b[0;32mIn[5], line 5\u001b[0m, in \u001b[0;36mload_surface_maps\u001b[0;34m(file_paths)\u001b[0m\n\u001b[1;32m      3\u001b[0m \u001b[38;5;28;01mfor\u001b[39;00m file_path \u001b[38;5;129;01min\u001b[39;00m file_paths:\n\u001b[1;32m      4\u001b[0m     img \u001b[38;5;241m=\u001b[39m nib\u001b[38;5;241m.\u001b[39mload(file_path)\n\u001b[0;32m----> 5\u001b[0m     data\u001b[38;5;241m.\u001b[39mappend(\u001b[43mimg\u001b[49m\u001b[38;5;241;43m.\u001b[39;49m\u001b[43mget_fdata\u001b[49m())\n\u001b[1;32m      6\u001b[0m \u001b[38;5;28;01mreturn\u001b[39;00m np\u001b[38;5;241m.\u001b[39marray(data)\n",
      "\u001b[0;31mAttributeError\u001b[0m: 'GiftiImage' object has no attribute 'get_fdata'"
     ]
    }
   ],
   "source": [
    "def load_surface_maps(file_paths):\n",
    "    data = []\n",
    "    for file_path in file_paths:\n",
    "        img = nib.load(file_path)\n",
    "        data.append(img.get_fdata())\n",
    "    return np.array(data)\n",
    "\n",
    "file_paths = [f\"{base_dir}/sub-01/ses-00/sub-01_ses-00_task-ArchiStandard_dir-ffx_space-fsaverage5_hemi-lh_ZMap-audio_computation.gii\"]\n",
    "data = load_surface_maps(file_paths)"
   ]
  },
  {
   "cell_type": "code",
   "execution_count": null,
   "metadata": {},
   "outputs": [],
   "source": [
    "# Compute the Representational Similarity Matrix (RSM)\n",
    "def compute_rsm(data):\n",
    "    # Flatten the data to 2D (samples x features)\n",
    "    n_samples, n_vertices, n_timepoints = data.shape\n",
    "    data_reshaped = data.reshape(n_samples, n_vertices * n_timepoints)\n",
    "    # Compute pairwise distances\n",
    "    distances = pdist(data_reshaped, metric='correlation')\n",
    "    # Convert to a square matrix\n",
    "    rsm = squareform(distances)\n",
    "    return rsm\n",
    "\n",
    "# Example subject and task\n",
    "example_data = data[0]  # Assuming data is loaded from the previous step\n",
    "rsm = compute_rsm(example_data)\n",
    "print(rsm)"
   ]
  }
 ],
 "metadata": {
  "kernelspec": {
   "display_name": "Python 3",
   "language": "python",
   "name": "python3"
  },
  "language_info": {
   "name": "python",
   "version": "3.12.8"
  }
 },
 "nbformat": 4,
 "nbformat_minor": 2
}
